{
 "cells": [
  {
   "cell_type": "markdown",
   "id": "b2b8f635-9775-46bd-9faa-60b72dbdd05c",
   "metadata": {},
   "source": [
    "# Nombre: Andres Felipe Vivas Palacios"
   ]
  },
  {
   "cell_type": "markdown",
   "id": "1e7994b3-0477-4313-838d-ba7cb79c6925",
   "metadata": {},
   "source": [
    "# **OPERACIONES BASICAS**"
   ]
  },
  {
   "cell_type": "markdown",
   "id": "794b581f-db8f-40a4-bc83-70aee166ddea",
   "metadata": {},
   "source": [
    "## *Sección* de Suma, **Resta**, Multiplicacion, *Division*\n"
   ]
  },
  {
   "cell_type": "markdown",
   "id": "428003df-e366-4cc1-a62a-ef6d658334d0",
   "metadata": {},
   "source": [
    "### *SUMA*\n"
   ]
  },
  {
   "cell_type": "code",
   "execution_count": 19,
   "id": "54da7291-821a-45fc-8984-ca730cac1df0",
   "metadata": {
    "scrolled": true
   },
   "outputs": [
    {
     "data": {
      "text/plain": [
       "40"
      ]
     },
     "execution_count": 19,
     "metadata": {},
     "output_type": "execute_result"
    }
   ],
   "source": [
    "20 + 20"
   ]
  },
  {
   "cell_type": "markdown",
   "id": "ee5ac927-7acf-4930-836f-29bee108ad5a",
   "metadata": {},
   "source": [
    "### **RESTA**"
   ]
  },
  {
   "cell_type": "code",
   "execution_count": 20,
   "id": "aba3350a-7b19-4eb5-89c5-37bce90b39ad",
   "metadata": {},
   "outputs": [
    {
     "data": {
      "text/plain": [
       "-20"
      ]
     },
     "execution_count": 20,
     "metadata": {},
     "output_type": "execute_result"
    }
   ],
   "source": [
    "40 - 60"
   ]
  },
  {
   "cell_type": "markdown",
   "id": "26c82a44-8307-444c-9ee8-0175e70f28ce",
   "metadata": {},
   "source": [
    "### MULT**IPLI**CACION"
   ]
  },
  {
   "cell_type": "code",
   "execution_count": 21,
   "id": "3ea677a6-9458-46a2-b4e4-c1c030f26400",
   "metadata": {},
   "outputs": [
    {
     "data": {
      "text/plain": [
       "25000"
      ]
     },
     "execution_count": 21,
     "metadata": {},
     "output_type": "execute_result"
    }
   ],
   "source": [
    "1000 * 25"
   ]
  },
  {
   "cell_type": "markdown",
   "id": "e7437aff-8bba-4f49-8e9b-37dbd1cea21c",
   "metadata": {},
   "source": [
    "### D*IVIS*ION"
   ]
  },
  {
   "cell_type": "code",
   "execution_count": 4,
   "id": "bae104f5-e0a7-46a9-bd3e-92e6e8427481",
   "metadata": {},
   "outputs": [
    {
     "data": {
      "text/plain": [
       "4.0"
      ]
     },
     "execution_count": 4,
     "metadata": {},
     "output_type": "execute_result"
    }
   ],
   "source": [
    "20 / 5"
   ]
  },
  {
   "cell_type": "markdown",
   "id": "1ee7794a-1926-49fc-ac14-800f8b9c3328",
   "metadata": {},
   "source": [
    "# **IMAGEN** \n",
    "\n",
    "## Inteligencia Artificial "
   ]
  },
  {
   "cell_type": "markdown",
   "id": "322a64cb-65da-4b37-9f79-60605de37d2d",
   "metadata": {},
   "source": [
    "<div style=\"text-align: center;\">\r\n",
    "  <img src=\"IA.com.png\" width=\"300\"/>\r\n",
    "</div>\r\n",
    "\r\n",
    "\n"
   ]
  },
  {
   "cell_type": "markdown",
   "id": "09ff12cf-d269-4d49-81c8-9b71cc9ddd8b",
   "metadata": {},
   "source": [
    "# Problema de Python"
   ]
  },
  {
   "cell_type": "code",
   "execution_count": 22,
   "id": "1fcc5153-ec51-4de4-9456-d86d84c357b1",
   "metadata": {},
   "outputs": [
    {
     "data": {
      "image/png": "[encoded data removed]",
      "text/plain": [
       "<Figure size 640x480 with 1 Axes>"
      ]
     },
     "metadata": {},
     "output_type": "display_data"
    }
   ],
   "source": [
    "import matplotlib.pyplot as plt\n",
    "\n",
    "Nombres = ['Andres', 'Juan', 'Laura', 'David', 'Felipe', 'Luis']\n",
    "Edades = [22, 4, 35, 15, 7, 50] \n",
    "\n",
    "plt.bar(Nombres, Edades)\n",
    "\n",
    "plt.xlabel('Nombres') \n",
    "plt.ylabel('Edades')   \n",
    "plt.title('Gráfico de barras')  \n",
    "\n",
    "\n",
    "plt.show()\n"
   ]
  },
  {
   "cell_type": "markdown",
   "id": "dbc28234-5987-48d9-83e3-255c231775ad",
   "metadata": {},
   "source": [
    "## import matplotlib.pyplot as plt: \n",
    "Permite usar las funciones de pyplot con el prefijo plt, facilitando la creación de gráficos, como gráficos de barras, líneas, dispersión, entre otros.\n"
   ]
  },
  {
   "cell_type": "markdown",
   "id": "50bc6998-879f-4b4b-a35e-770fc9612fd2",
   "metadata": {},
   "source": [
    "## plt.bar(Nombres, Edades): \n",
    "Crea un gráfico de barras.\n"
   ]
  },
  {
   "cell_type": "markdown",
   "id": "6e582cb5-8c36-4916-9dee-288fa1b096e3",
   "metadata": {},
   "source": [
    " el primer argumento (Nombres) define las etiquetas en el eje x."
   ]
  },
  {
   "cell_type": "markdown",
   "id": "583a6ffb-e696-4262-9d5e-f5e4493d7b47",
   "metadata": {},
   "source": [
    "y el segundo argumento (Edades) define las etiquetas del eje y."
   ]
  },
  {
   "cell_type": "markdown",
   "id": "5783b5dd-cf0c-4c87-9ca5-c10a7f6eae4c",
   "metadata": {},
   "source": [
    "## Etiquetas y título\n"
   ]
  },
  {
   "cell_type": "markdown",
   "id": "cfd1a1d6-0861-4d55-895c-3cc6cdb4529e",
   "metadata": {},
   "source": [
    "**plt.xlabel('Nombres'):** texto que se mostrará como etiqueta del eje x.\n"
   ]
  },
  {
   "cell_type": "markdown",
   "id": "506f879e-002a-445a-804f-18cafb0b8bc7",
   "metadata": {},
   "source": [
    "**plt.ylabel('Edades'):** texto que se mostrará como etiqueta del eje y.\n"
   ]
  },
  {
   "cell_type": "markdown",
   "id": "0684a482-8c4a-405f-96c0-936aaead32b6",
   "metadata": {},
   "source": [
    "**plt.title('Gráfico de barras'):** texto que se mostrará como Título del gráfico."
   ]
  },
  {
   "cell_type": "markdown",
   "id": "d5d6eb7d-9024-4c39-8e67-f1f5176cc9f0",
   "metadata": {},
   "source": [
    "## plt.show() \n",
    "muestra el gráfico en una ventana emergente o en el entorno donde se esta trabajando."
   ]
  }
 ],
 "metadata": {
  "kernelspec": {
   "display_name": "Python 3 (ipykernel)",
   "language": "python",
   "name": "python3"
  },
  "language_info": {
   "codemirror_mode": {
    "name": "ipython",
    "version": 3
   },
   "file_extension": ".py",
   "mimetype": "text/x-python",
   "name": "python",
   "nbconvert_exporter": "python",
   "pygments_lexer": "ipython3",
   "version": "3.12.4"
  }
 },
 "nbformat": 4,
 "nbformat_minor": 5
}
